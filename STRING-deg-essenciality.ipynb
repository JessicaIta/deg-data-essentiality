{
 "cells": [
  {
   "cell_type": "code",
   "execution_count": null,
   "id": "df96e63d",
   "metadata": {},
   "outputs": [],
   "source": [
    "import pandas as pd\n",
    "import networkx as nx"
   ]
  },
  {
   "cell_type": "code",
   "execution_count": null,
   "id": "0331c71e",
   "metadata": {},
   "outputs": [],
   "source": [
    "string_df_10090_dt = pd.read_csv(\"organismos_string/10090_protein_detailed.txt\", sep=\" \")\n",
    "string_df_10090_dt"
   ]
  },
  {
   "cell_type": "code",
   "execution_count": null,
   "id": "823aa1bf",
   "metadata": {},
   "outputs": [],
   "source": [
    "# Proteínas com experimentais ou bancos curados\n",
    "df_curated = string_df_10090_dt[(string_df_10090_dt['experimental'] > 0) | (string_df_10090_dt['database'] > 0)]\n",
    "df_curated"
   ]
  },
  {
   "cell_type": "markdown",
   "id": "97317889",
   "metadata": {},
   "source": [
    "## Funções dos grafos"
   ]
  },
  {
   "cell_type": "code",
   "execution_count": null,
   "id": "37d62a7e",
   "metadata": {},
   "outputs": [],
   "source": [
    "# protein_interaction_df = string_df_4932\n",
    "\n",
    "protein_interaction_df = df_curated"
   ]
  },
  {
   "cell_type": "code",
   "execution_count": null,
   "id": "dd18bce9",
   "metadata": {},
   "outputs": [],
   "source": [
    "# Enumerando as proteínas da Cerevisiae\n",
    "\n",
    "protein_map = { v:k for k, v in enumerate(set(protein_interaction_df.loc[:, \"protein1\"]).union(\n",
    "    set(protein_interaction_df.loc[:, \"protein2\"]))) }\n",
    "\n",
    "\n",
    "print(len(protein_map))"
   ]
  },
  {
   "cell_type": "code",
   "execution_count": null,
   "id": "d25387ff",
   "metadata": {},
   "outputs": [],
   "source": [
    "protein_map"
   ]
  },
  {
   "cell_type": "code",
   "execution_count": null,
   "id": "0fa4c299",
   "metadata": {},
   "outputs": [],
   "source": [
    "len(protein_map)"
   ]
  },
  {
   "cell_type": "code",
   "execution_count": null,
   "id": "98eb6019",
   "metadata": {},
   "outputs": [],
   "source": [
    "# Mapeando as proteínas para gerar o grafo\n",
    "\n",
    "def mapProtein(protein_interaction_df, protein_map):\n",
    "    \n",
    "    protein_interation_masked = pd.DataFrame()\n",
    "    \n",
    "    proteins = ['protein1', 'protein2']\n",
    "    \n",
    "    for p in proteins:\n",
    "        protein_interation_masked[p] = protein_interaction_df[p].map(protein_map)\n",
    "    \n",
    "    return protein_interation_masked"
   ]
  },
  {
   "cell_type": "code",
   "execution_count": null,
   "id": "ad8d9305",
   "metadata": {},
   "outputs": [],
   "source": [
    "protein_interation_masked = mapProtein(protein_interaction_df, protein_map)\n",
    "protein_interation_masked"
   ]
  },
  {
   "cell_type": "code",
   "execution_count": null,
   "id": "c07f0c5a",
   "metadata": {},
   "outputs": [],
   "source": [
    "def generateGraph(protein_interation_masked):\n",
    "\n",
    "    # Gerar grafo a partir do mapeamento do dataframe do Pandas\n",
    "    protein_interaction_graph = nx.from_pandas_edgelist(\n",
    "        protein_interation_masked, \n",
    "        source = \"protein1\", \n",
    "        target = \"protein2\"\n",
    "    )\n",
    "    \n",
    "    return protein_interaction_graph"
   ]
  },
  {
   "cell_type": "code",
   "execution_count": null,
   "id": "03494e0d",
   "metadata": {},
   "outputs": [],
   "source": [
    "def generateDF(protein_interaction_graph):\n",
    "    return nx.to_pandas_edgelist(protein_interaction_graph)"
   ]
  },
  {
   "cell_type": "code",
   "execution_count": null,
   "id": "68f22edb",
   "metadata": {},
   "outputs": [],
   "source": [
    "# Geração do grafo de PPI\n",
    "\n",
    "graph = generateGraph(protein_interation_masked)\n",
    "df_graph = generateDF(graph)\n",
    "df_graph"
   ]
  },
  {
   "cell_type": "code",
   "execution_count": null,
   "id": "6c137f19",
   "metadata": {},
   "outputs": [],
   "source": [
    "# Medidas de Centralidade\n",
    "import time\n",
    "\n",
    "seconds_ini = time.time()\n",
    "\n",
    "# Degree Centrality\n",
    "degree = nx.degree_centrality(graph)"
   ]
  },
  {
   "cell_type": "code",
   "execution_count": null,
   "id": "4dcc11e5",
   "metadata": {},
   "outputs": [],
   "source": [
    "# Eigenvector Centrality\n",
    "\n",
    "eigenvector = nx.eigenvector_centrality(graph)"
   ]
  },
  {
   "cell_type": "code",
   "execution_count": null,
   "id": "1d5869c6",
   "metadata": {},
   "outputs": [],
   "source": [
    "# Betweenness Centrality\n",
    "\n",
    "#K atribuído dado o tamanho da rede\n",
    "\n",
    "betweenness = nx.betweenness_centrality(graph, k=380)\n"
   ]
  },
  {
   "cell_type": "code",
   "execution_count": null,
   "id": "033f7e19",
   "metadata": {},
   "outputs": [],
   "source": [
    "# Closeness Centrality\n",
    "\n",
    "closeness = {}\n",
    "\n",
    "for i in range(len(protein_map)):\n",
    "    closeness_tmp = nx.closeness_centrality(graph, u=i)\n",
    "    closeness[i] = closeness_tmp\n",
    "    print(i)"
   ]
  },
  {
   "cell_type": "code",
   "execution_count": null,
   "id": "2bc76745",
   "metadata": {},
   "outputs": [],
   "source": [
    "betweenness"
   ]
  },
  {
   "cell_type": "code",
   "execution_count": null,
   "id": "7d3c8114",
   "metadata": {},
   "outputs": [],
   "source": [
    "# Clustering\n",
    "clustering = nx.clustering(graph)\n",
    "\n",
    "seconds_fini = time.time()\n",
    "\n",
    "print(\"Seconds since epoch =\", seconds_fini - seconds_ini)"
   ]
  },
  {
   "cell_type": "code",
   "execution_count": null,
   "id": "ccd6bf9d",
   "metadata": {},
   "outputs": [],
   "source": [
    "# Criando um Dataframe\n",
    "from collections import OrderedDict\n",
    "\n",
    "degree_ordered = OrderedDict(sorted(degree.items()))\n",
    "eigenvector_ordered = OrderedDict(sorted(eigenvector.items()))\n",
    "betweenness_ordered = OrderedDict(sorted(betweenness.items()))\n",
    "closeness_ordered = OrderedDict(sorted(closeness.items()))\n",
    "clustering_ordered = OrderedDict(sorted(clustering.items()))\n",
    "\n",
    "\n",
    "protein_features = pd.concat([pd.Series(list(protein_map.keys())),\n",
    "                              pd.Series(list(degree_ordered.values())), \n",
    "                              pd.Series(list(eigenvector_ordered.values())),\n",
    "                              pd.Series(list(betweenness_ordered.values())), \n",
    "                              pd.Series(list(closeness_ordered.values())),\n",
    "                              pd.Series(list(clustering_ordered.values()))], axis=1)\n",
    "\n",
    "protein_features.columns = [\"Protein_key\",\n",
    "                            \"DegreeCentrality\",\n",
    "                            \"EigenvectorCentrality\",\n",
    "                            \"BetweennessCentrality\",\n",
    "                            \"ClosenessCentrality\",\n",
    "                            \"Clustering\"]\n",
    "                           "
   ]
  },
  {
   "cell_type": "code",
   "execution_count": null,
   "id": "d411a948",
   "metadata": {},
   "outputs": [],
   "source": [
    "protein_features"
   ]
  },
  {
   "cell_type": "code",
   "execution_count": null,
   "id": "3d7b05ea",
   "metadata": {},
   "outputs": [],
   "source": [
    "protein_features.to_csv('data_org/proteins_features_musculus_tmp.csv', index=False)"
   ]
  },
  {
   "cell_type": "code",
   "execution_count": null,
   "id": "1a6df256",
   "metadata": {},
   "outputs": [],
   "source": [
    "# Rotulando as proteínas essencias\n",
    "\n",
    "dataset_essential = pd.read_csv('essential_genes.csv')\n",
    "\n",
    "protein_features = pd.read_csv('data_org/proteins_features_musculus_tmp.csv')\n",
    "\n",
    "dataset_essential[dataset_essential['Code_Organism'] == 'DEG2005']"
   ]
  },
  {
   "cell_type": "code",
   "execution_count": null,
   "id": "d0d1da5a",
   "metadata": {},
   "outputs": [],
   "source": [
    "dataset_essential"
   ]
  },
  {
   "cell_type": "code",
   "execution_count": null,
   "id": "706204d4",
   "metadata": {},
   "outputs": [],
   "source": [
    "sac_proteins = list(dataset_essential[dataset_essential['Code_Organism'] == 'DEG2005']['Locus'])\n",
    "\n",
    "protein_features['is_essential'] = protein_features.apply(lambda x: 1 if x.Protein_key in sac_proteins \n",
    "                                                          else 0, axis=1)"
   ]
  },
  {
   "cell_type": "code",
   "execution_count": null,
   "id": "a1c2969b",
   "metadata": {},
   "outputs": [],
   "source": [
    "protein_features"
   ]
  },
  {
   "cell_type": "code",
   "execution_count": null,
   "id": "e2a81f99",
   "metadata": {},
   "outputs": [],
   "source": [
    "protein_features['is_essential'].value_counts()"
   ]
  },
  {
   "cell_type": "code",
   "execution_count": null,
   "id": "9ab7f7f1",
   "metadata": {},
   "outputs": [],
   "source": [
    "protein_features.to_csv('data_org/proteins_features_musculus.csv', index=False)"
   ]
  },
  {
   "cell_type": "code",
   "execution_count": null,
   "id": "c24fb16b",
   "metadata": {},
   "outputs": [],
   "source": [
    "# Graph \n",
    "\n",
    "# Fonte: https://networkx.org/nx-guides/content/exploratory_notebooks/facebook_notebook.html\n",
    "\n",
    "from random import randint\n",
    "import matplotlib.pyplot as plt\n",
    "\n",
    "pos = nx.spring_layout(graph)\n",
    "\n",
    "\n",
    "plt.figure(figsize=(15,10))\n",
    "plt.axis('off') \n",
    "nx.draw_networkx(graph, pos=pos, node_size=12, with_labels=False, width=0.15)"
   ]
  },
  {
   "cell_type": "markdown",
   "id": "1a52e713",
   "metadata": {},
   "source": [
    "### Visualização de dados"
   ]
  },
  {
   "cell_type": "code",
   "execution_count": null,
   "id": "1412e8c4",
   "metadata": {},
   "outputs": [],
   "source": [
    "df = pd.read_csv(\"data_org/proteins_features_droso.csv\")\n",
    "df"
   ]
  },
  {
   "cell_type": "code",
   "execution_count": null,
   "id": "b498b195",
   "metadata": {},
   "outputs": [],
   "source": [
    "df_essential = df[df['is_essential'] == 1]\n",
    "df_essential"
   ]
  },
  {
   "cell_type": "code",
   "execution_count": null,
   "id": "e6690f3b",
   "metadata": {},
   "outputs": [],
   "source": [
    "df_non_essential = df[df['is_essential'] == 0]\n",
    "df_non_essential"
   ]
  },
  {
   "cell_type": "code",
   "execution_count": null,
   "id": "7e21b00c",
   "metadata": {},
   "outputs": [],
   "source": [
    "import matplotlib.pyplot as plt\n",
    "import seaborn as sns\n",
    "plt.rcParams['figure.figsize'] = (16,12)\n",
    "\n",
    "# Define as configurações dos plots\n",
    "# Cada plot terá o mesmo tamanho de figuras (8,10)\n",
    "#plt.style.use(\"ggplot\")\n",
    "\n",
    "plt.figure(1)\n",
    "\n",
    "sns.set_theme(style=\"whitegrid\", palette=\"dark\")\n",
    "\n",
    "plt.title('Drosophila melanogaster Data')\n",
    "\n",
    "\n",
    "# Dados para cada subplot\n",
    "\n",
    "plt.subplot(321)\n",
    "sns.histplot(data=df, x=\"DegreeCentrality\", hue=\"is_essential\", \n",
    "             stat=\"probability\", common_norm=False, kde=True)\n",
    "\n",
    "plt.subplot(322)\n",
    "sns.histplot(data=df, x=\"EigenvectorCentrality\", hue=\"is_essential\", \n",
    "            stat=\"probability\", common_norm=False, kde=True)\n",
    "\n",
    "plt.subplot(323)\n",
    "sns.histplot(data=df, x=\"BetweennessCentrality\", hue=\"is_essential\", bins = 100,\n",
    "            stat=\"probability\", common_norm=False, kde=True)\n",
    "\n",
    "plt.subplot(324)\n",
    "sns.histplot(data=df, x=\"ClosenessCentrality\", hue=\"is_essential\", \n",
    "            stat=\"probability\", common_norm=False, kde=True)\n",
    "\n",
    "plt.subplot(325)\n",
    "sns.histplot(data=df, x=\"Clustering\", hue=\"is_essential\", \n",
    "            stat=\"probability\", common_norm=False, kde=True)\n",
    "\n",
    "\n",
    "plt.subplots_adjust(top=0.95, bottom=0.05, left=0.10, right=0.95, hspace=0.4,\n",
    "                    wspace=0.25)\n",
    "\n",
    "plt.savefig(\"results_drosophila.jpg\")\n",
    "plt.show()\n"
   ]
  },
  {
   "cell_type": "code",
   "execution_count": null,
   "id": "67158e5b",
   "metadata": {},
   "outputs": [],
   "source": []
  },
  {
   "cell_type": "code",
   "execution_count": null,
   "id": "8064d541",
   "metadata": {},
   "outputs": [],
   "source": []
  }
 ],
 "metadata": {
  "kernelspec": {
   "display_name": "Python 3 (ipykernel)",
   "language": "python",
   "name": "python3"
  },
  "language_info": {
   "codemirror_mode": {
    "name": "ipython",
    "version": 3
   },
   "file_extension": ".py",
   "mimetype": "text/x-python",
   "name": "python",
   "nbconvert_exporter": "python",
   "pygments_lexer": "ipython3",
   "version": "3.8.10"
  }
 },
 "nbformat": 4,
 "nbformat_minor": 5
}
